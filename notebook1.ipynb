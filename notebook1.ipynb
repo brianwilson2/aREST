{
  "nbformat": 4,
  "nbformat_minor": 0,
  "metadata": {
    "colab": {
      "provenance": [],
      "toc_visible": true,
      "authorship_tag": "ABX9TyPr/Oi8lp8BtR7La4pRD7LH",
      "include_colab_link": true
    },
    "kernelspec": {
      "name": "python3",
      "display_name": "Python 3"
    },
    "language_info": {
      "name": "python"
    }
  },
  "cells": [
    {
      "cell_type": "markdown",
      "metadata": {
        "id": "view-in-github",
        "colab_type": "text"
      },
      "source": [
        "<a href=\"https://colab.research.google.com/github/brianwilson2/aREST/blob/master/notebook1.ipynb\" target=\"_parent\"><img src=\"https://colab.research.google.com/assets/colab-badge.svg\" alt=\"Open In Colab\"/></a>"
      ]
    },
    {
      "cell_type": "markdown",
      "source": [
        "# google colab notebook\n",
        "this works\n"
      ],
      "metadata": {
        "id": "1ZvpBxP9K3e-"
      }
    },
    {
      "cell_type": "code",
      "source": [
        "# @title Default title text\n",
        "print (\"hello viewers\")"
      ],
      "metadata": {
        "colab": {
          "base_uri": "https://localhost:8080/"
        },
        "id": "BuDkukJdLBo9",
        "outputId": "86a663d3-7a59-413c-aa1f-fd81fb7ad1f0"
      },
      "execution_count": 3,
      "outputs": [
        {
          "output_type": "stream",
          "name": "stdout",
          "text": [
            "hello viewers\n"
          ]
        }
      ]
    },
    {
      "cell_type": "code",
      "source": [
        "here we are\n"
      ],
      "metadata": {
        "id": "aEN0TjvrMoH2"
      },
      "execution_count": null,
      "outputs": []
    }
  ]
}